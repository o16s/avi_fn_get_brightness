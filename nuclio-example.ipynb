{
 "cells": [
  {
   "cell_type": "code",
   "execution_count": 3,
   "metadata": {
    "pycharm": {
     "name": "#%% md\n"
    }
   },
   "outputs": [],
   "source": [
    "# nuclio: ignore\n",
    "# if the nuclio-jupyter package is not installed run !pip install nuclio-jupyter\n",
    "import nuclio"
   ]
  },
  {
   "cell_type": "code",
   "execution_count": 4,
   "metadata": {},
   "outputs": [
    {
     "name": "stdout",
     "output_type": "stream",
     "text": [
      "%nuclio: setting 'USER' environment variable\n",
      "%nuclio: setting 'VERSION' environment variable\n"
     ]
    }
   ],
   "source": [
    "%%nuclio env\n",
    "USER=sam\n",
    "VERSION=1.0"
   ]
  },
  {
   "cell_type": "code",
   "execution_count": 5,
   "metadata": {},
   "outputs": [
    {
     "name": "stdout",
     "output_type": "stream",
     "text": [
      "%nuclio: setting 'PASSWORD' environment variable\n"
     ]
    }
   ],
   "source": [
    "%nuclio env PASSWORD=${PASSWORD}"
   ]
  },
  {
   "cell_type": "code",
   "execution_count": 25,
   "metadata": {},
   "outputs": [
    {
     "name": "stdout",
     "output_type": "stream",
     "text": [
      "%nuclio: setting spec.build.baseImage to 'python:3.11'\n"
     ]
    }
   ],
   "source": [
    "%nuclio config spec.build.baseImage = \"python:3.11\""
   ]
  },
  {
   "cell_type": "code",
   "execution_count": 27,
   "metadata": {},
   "outputs": [
    {
     "name": "stdout",
     "output_type": "stream",
     "text": [
      "Requirement already satisfied: requests in /Users/sam/miniconda3/envs/avi/lib/python3.11/site-packages (2.32.3)\n",
      "Requirement already satisfied: charset-normalizer<4,>=2 in /Users/sam/miniconda3/envs/avi/lib/python3.11/site-packages (from requests) (3.4.1)\n",
      "Requirement already satisfied: idna<4,>=2.5 in /Users/sam/miniconda3/envs/avi/lib/python3.11/site-packages (from requests) (3.10)\n",
      "Requirement already satisfied: urllib3<3,>=1.21.1 in /Users/sam/miniconda3/envs/avi/lib/python3.11/site-packages (from requests) (2.3.0)\n",
      "Requirement already satisfied: certifi>=2017.4.17 in /Users/sam/miniconda3/envs/avi/lib/python3.11/site-packages (from requests) (2025.1.31)\n",
      "Requirement already satisfied: msgpack in /Users/sam/miniconda3/envs/avi/lib/python3.11/site-packages (1.1.0)\n"
     ]
    }
   ],
   "source": [
    "%%nuclio cmd\n",
    "pip install requests\n",
    "pip install msgpack"
   ]
  },
  {
   "cell_type": "code",
   "execution_count": 11,
   "metadata": {},
   "outputs": [],
   "source": [
    "from os import environ\n",
    "def handler(context, event):\n",
    "    context.logger.info('some log message')\n",
    "    return 'Hello World '+environ.get('USER')"
   ]
  },
  {
   "cell_type": "code",
   "execution_count": 12,
   "metadata": {},
   "outputs": [
    {
     "name": "stdout",
     "output_type": "stream",
     "text": [
      "Python> 2025-03-28 13:59:14,640 [info] some log message\n"
     ]
    },
    {
     "data": {
      "text/plain": [
       "'Hello World sam'"
      ]
     },
     "execution_count": 12,
     "metadata": {},
     "output_type": "execute_result"
    }
   ],
   "source": [
    "# nuclio: ignore\n",
    "event = nuclio.Event(body='')\n",
    "handler(context, event)"
   ]
  },
  {
   "cell_type": "code",
   "execution_count": 28,
   "metadata": {},
   "outputs": [
    {
     "name": "stdout",
     "output_type": "stream",
     "text": [
      "[nuclio] 2025-03-28 14:03:40,553 (info) Staging files and preparing base images\n",
      "[nuclio] 2025-03-28 14:03:40,554 (warn) Using user provided base image, runtime interpreter version is provided by the base image\n",
      "[nuclio] 2025-03-28 14:03:40,555 (info) Building processor image\n",
      "[nuclio] 2025-03-28 14:03:53,245 (info) Build complete\n",
      "[nuclio] 2025-03-28 14:03:53,247 (info) Cleaning up before deployment\n",
      "[nuclio] 2025-03-28 14:03:55,508 (info) Function deploy complete\n",
      "[nuclio] 2025-03-28 14:03:55,510 done updating nuclio\n",
      "[nuclio] 2025-03-28 14:03:55,510 function internal invocation url: 172.17.0.6:8080\n",
      "[nuclio] 2025-03-28 14:03:55,511 function external invocation url: 0.0.0.0:32771\n",
      "%nuclio: function deployed\n"
     ]
    }
   ],
   "source": [
    "%nuclio deploy -n nuclio -p avi -d http://lasso:8070"
   ]
  },
  {
   "cell_type": "code",
   "execution_count": 33,
   "metadata": {
    "pycharm": {
     "name": "#%%\n"
    }
   },
   "outputs": [
    {
     "name": "stdout",
     "output_type": "stream",
     "text": [
      "Hello World sam"
     ]
    }
   ],
   "source": [
    "!curl lasso:32771"
   ]
  },
  {
   "cell_type": "code",
   "execution_count": 34,
   "metadata": {
    "collapsed": false,
    "pycharm": {
     "name": "#%%\n"
    }
   },
   "outputs": [
    {
     "name": "stdout",
     "output_type": "stream",
     "text": [
      "%nuclio: notebook nuclio-example exported\n",
      "Config:\n",
      "apiVersion: nuclio.io/v1\n",
      "kind: Function\n",
      "metadata:\n",
      "  annotations:\n",
      "    nuclio.io/generated_by: function generated from /Users/sam/Repositories/avi_fn/nuclio-example.ipynb\n",
      "  labels: {}\n",
      "  name: nuclio-example\n",
      "spec:\n",
      "  build:\n",
      "    baseImage: python:3.11\n",
      "    commands:\n",
      "    - pip install requests\n",
      "    - pip install msgpack\n",
      "    functionSourceCode: IyBHZW5lcmF0ZWQgYnkgbnVjbGlvLmV4cG9ydC5OdWNsaW9FeHBvcnRlcgoKZnJvbSBvcyBpbXBvcnQgZW52aXJvbgpkZWYgaGFuZGxlcihjb250ZXh0LCBldmVudCk6CiAgICBjb250ZXh0LmxvZ2dlci5pbmZvKCdzb21lIGxvZyBtZXNzYWdlJykKICAgIHJldHVybiAnSGVsbG8gV29ybGQgJytlbnZpcm9uLmdldCgnVVNFUicpCgo=\n",
      "    noBaseImagesPull: true\n",
      "  env:\n",
      "  - name: USER\n",
      "    value: sam\n",
      "  - name: VERSION\n",
      "    value: '1.0'\n",
      "  - name: PASSWORD\n",
      "    value: ${PASSWORD}\n",
      "  handler: nuclio-example-nuclio:handler\n",
      "  runtime: python\n",
      "  volumes: []\n",
      "\n",
      "Code:\n",
      "# Generated by nuclio.export.NuclioExporter\n",
      "\n",
      "from os import environ\n",
      "def handler(context, event):\n",
      "    context.logger.info('some log message')\n",
      "    return 'Hello World '+environ.get('USER')\n",
      "\n",
      "\n"
     ]
    }
   ],
   "source": [
    "%nuclio show"
   ]
  }
 ],
 "metadata": {
  "kernelspec": {
   "display_name": "avi",
   "language": "python",
   "name": "python3"
  },
  "language_info": {
   "codemirror_mode": {
    "name": "ipython",
    "version": 3
   },
   "file_extension": ".py",
   "mimetype": "text/x-python",
   "name": "python",
   "nbconvert_exporter": "python",
   "pygments_lexer": "ipython3",
   "version": "3.11.11"
  }
 },
 "nbformat": 4,
 "nbformat_minor": 2
}
