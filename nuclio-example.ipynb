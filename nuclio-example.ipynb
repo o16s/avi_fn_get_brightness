{
 "cells": [
  {
   "cell_type": "code",
   "execution_count": 18,
   "metadata": {
    "pycharm": {
     "name": "#%% md\n"
    }
   },
   "outputs": [],
   "source": [
    "# nuclio: ignore\n",
    "# if the nuclio-jupyter package is not installed run !pip install nuclio-jupyter\n",
    "import nuclio"
   ]
  },
  {
   "cell_type": "code",
   "execution_count": 19,
   "metadata": {},
   "outputs": [
    {
     "name": "stdout",
     "output_type": "stream",
     "text": [
      "%nuclio: setting 'USER' environment variable\n",
      "%nuclio: setting 'VERSION' environment variable\n"
     ]
    }
   ],
   "source": [
    "%%nuclio env\n",
    "USER=sam\n",
    "VERSION=1.0"
   ]
  },
  {
   "cell_type": "code",
   "execution_count": 20,
   "metadata": {},
   "outputs": [
    {
     "name": "stdout",
     "output_type": "stream",
     "text": [
      "%nuclio: setting 'PASSWORD' environment variable\n"
     ]
    }
   ],
   "source": [
    "%nuclio env PASSWORD=${PASSWORD}"
   ]
  },
  {
   "cell_type": "code",
   "execution_count": 21,
   "metadata": {},
   "outputs": [
    {
     "name": "stdout",
     "output_type": "stream",
     "text": [
      "%nuclio: setting spec.build.baseImage to 'python:3.11'\n",
      "%nuclio: setting spec.runtime to 'python:3.11'\n"
     ]
    }
   ],
   "source": [
    "%nuclio config spec.build.baseImage = \"python:3.11\"\n",
    "%nuclio config spec.runtime = \"python:3.11\""
   ]
  },
  {
   "cell_type": "code",
   "execution_count": 23,
   "metadata": {},
   "outputs": [
    {
     "name": "stdout",
     "output_type": "stream",
     "text": [
      "Requirement already satisfied: requests in /Users/raffael/miniconda3/envs/avi/lib/python3.11/site-packages (2.32.3)\n",
      "Requirement already satisfied: charset-normalizer<4,>=2 in /Users/raffael/miniconda3/envs/avi/lib/python3.11/site-packages (from requests) (3.4.1)\n",
      "Requirement already satisfied: idna<4,>=2.5 in /Users/raffael/miniconda3/envs/avi/lib/python3.11/site-packages (from requests) (3.10)\n",
      "Requirement already satisfied: urllib3<3,>=1.21.1 in /Users/raffael/miniconda3/envs/avi/lib/python3.11/site-packages (from requests) (2.3.0)\n",
      "Requirement already satisfied: certifi>=2017.4.17 in /Users/raffael/miniconda3/envs/avi/lib/python3.11/site-packages (from requests) (2025.1.31)\n",
      "Requirement already satisfied: msgpack in /Users/raffael/miniconda3/envs/avi/lib/python3.11/site-packages (1.1.0)\n",
      "Collecting numpy\n",
      "  Downloading numpy-2.2.4-cp311-cp311-macosx_14_0_arm64.whl.metadata (62 kB)\n",
      "Downloading numpy-2.2.4-cp311-cp311-macosx_14_0_arm64.whl (5.4 MB)\n",
      "\u001b[2K   \u001b[90m━━━━━━━━━━━━━━━━━━━━━━━━━━━━━━━━━━━━━━━━\u001b[0m \u001b[32m5.4/5.4 MB\u001b[0m \u001b[31m3.4 MB/s\u001b[0m eta \u001b[36m0:00:00\u001b[0ma \u001b[36m0:00:01\u001b[0m\n",
      "\u001b[?25hInstalling collected packages: numpy\n",
      "Successfully installed numpy-2.2.4\n",
      "Collecting opencv-python\n",
      "  Using cached opencv_python-4.11.0.86-cp37-abi3-macosx_13_0_arm64.whl.metadata (20 kB)\n",
      "Requirement already satisfied: numpy>=1.21.2 in /Users/raffael/miniconda3/envs/avi/lib/python3.11/site-packages (from opencv-python) (2.2.4)\n",
      "Using cached opencv_python-4.11.0.86-cp37-abi3-macosx_13_0_arm64.whl (37.3 MB)\n",
      "Installing collected packages: opencv-python\n",
      "Successfully installed opencv-python-4.11.0.86\n"
     ]
    }
   ],
   "source": [
    "%%nuclio cmd\n",
    "pip install requests\n",
    "pip install msgpack\n",
    "pip install numpy\n",
    "pip install opencv-python\n"
   ]
  },
  {
   "cell_type": "code",
   "execution_count": 41,
   "metadata": {},
   "outputs": [],
   "source": [
    "import os \n",
    "import base64\n",
    "import json\n",
    "from brightness_detector import calculate_brightness\n",
    "\n",
    "def handler(context, event):\n",
    "    \"\"\"\n",
    "    Nuclio handler function for brightness detection\n",
    "    \"\"\"\n",
    "    try:\n",
    "        # Get headers and body\n",
    "        headers = event.headers\n",
    "        body = event.body\n",
    "        \n",
    "        # Process based on content type\n",
    "        content_type = headers.get('content-type', '')\n",
    "        \n",
    "        if event.method != 'POST':\n",
    "            return {\n",
    "                'statusCode': 400,\n",
    "                'body': json.dumps({'error': 'Only POST requests are supported'})\n",
    "            }\n",
    "        \n",
    "        # Parse ROI if specified\n",
    "        roi = None\n",
    "        roi_param = event.fields.get('roi')\n",
    "        if roi_param:\n",
    "            try:\n",
    "                roi = tuple(map(int, roi_param.split(',')))\n",
    "                if len(roi) != 4:\n",
    "                    raise ValueError()\n",
    "            except:\n",
    "                return {\n",
    "                    'statusCode': 400,\n",
    "                    'body': json.dumps({'error': 'Invalid ROI format. Expected x,y,width,height'})\n",
    "                }\n",
    "        \n",
    "        # Handle different content types\n",
    "        if 'multipart/form-data' in content_type:\n",
    "            # Get the image file from multipart form\n",
    "            file_data = event.fields.get('image')\n",
    "            if file_data:\n",
    "                # Decode base64 if needed\n",
    "                if isinstance(file_data, str) and file_data.startswith('data:image'):\n",
    "                    # Handle data URI\n",
    "                    _, file_data = file_data.split(',', 1)\n",
    "                    image_data = base64.b64decode(file_data)\n",
    "                elif isinstance(file_data, dict) and 'data' in file_data:\n",
    "                    # Handle Nuclio's multipart format\n",
    "                    image_data = file_data['data']\n",
    "                else:\n",
    "                    image_data = file_data\n",
    "                \n",
    "                # Calculate brightness\n",
    "                brightness = calculate_brightness(image_data=image_data, roi=roi)\n",
    "                \n",
    "                # Return the brightness value\n",
    "                return {\n",
    "                    'statusCode': 200,\n",
    "                    'body': json.dumps({'brightness': brightness}),\n",
    "                    'content_type': 'application/json'\n",
    "                }\n",
    "            else:\n",
    "                return {\n",
    "                    'statusCode': 400,\n",
    "                    'body': json.dumps({'error': 'No image file found in request'})\n",
    "                }\n",
    "                \n",
    "        elif 'application/json' in content_type:\n",
    "            # Parse JSON body\n",
    "            try:\n",
    "                data = json.loads(body)\n",
    "                \n",
    "                # Check if image path is provided\n",
    "                if 'image_path' in data:\n",
    "                    # Use the provided path - be careful with this for security reasons\n",
    "                    image_path = data['image_path']\n",
    "                    roi = data.get('roi')\n",
    "                    brightness = calculate_brightness(image_path=image_path, roi=roi)\n",
    "                    return {\n",
    "                        'statusCode': 200,\n",
    "                        'body': json.dumps({'brightness': brightness}),\n",
    "                        'content_type': 'application/json'\n",
    "                    }\n",
    "                    \n",
    "                # Check if base64 image is provided\n",
    "                elif 'image_base64' in data:\n",
    "                    # Decode base64 image\n",
    "                    image_data = base64.b64decode(data['image_base64'])\n",
    "                    brightness = calculate_brightness(image_data=image_data, roi=roi)\n",
    "                    return {\n",
    "                        'statusCode': 200,\n",
    "                        'body': json.dumps({'brightness': brightness}),\n",
    "                        'content_type': 'application/json'\n",
    "                    }\n",
    "                else:\n",
    "                    return {\n",
    "                        'statusCode': 400,\n",
    "                        'body': json.dumps({'error': 'No image data found in request'})\n",
    "                    }\n",
    "            except Exception as e:\n",
    "                return {\n",
    "                    'statusCode': 400,\n",
    "                    'body': json.dumps({'error': f'Error parsing JSON: {str(e)}'})\n",
    "                }\n",
    "        else:\n",
    "            # Handle raw image data\n",
    "            try:\n",
    "                brightness = calculate_brightness(image_data=body, roi=roi)\n",
    "                return {\n",
    "                    'statusCode': 200,\n",
    "                    'body': json.dumps({'brightness': brightness}),\n",
    "                    'content_type': 'application/json'\n",
    "                }\n",
    "            except Exception as e:\n",
    "                return {\n",
    "                    'statusCode': 400,\n",
    "                    'body': json.dumps({'error': f'Error processing image: {str(e)}'})\n",
    "                }\n",
    "                \n",
    "    except Exception as e:\n",
    "        context.logger.error(f'Error: {str(e)}')\n",
    "        return {\n",
    "            'statusCode': 500,\n",
    "            'body': json.dumps({'error': str(e)}),\n",
    "            'content_type': 'application/json'\n",
    "        }\n"
   ]
  },
  {
   "cell_type": "code",
   "execution_count": 43,
   "metadata": {},
   "outputs": [
    {
     "name": "stdout",
     "output_type": "stream",
     "text": [
      "{'statusCode': 200, 'body': '{\"brightness\": 59.65424045138889}', 'content_type': 'application/json'}\n"
     ]
    }
   ],
   "source": [
    "# nuclio: ignore\n",
    "import nuclio\n",
    "import json\n",
    "\n",
    "# Explicitly set method='POST' in the Event object\n",
    "event = nuclio.Event(\n",
    "    method='POST',  # Add this line to fix the issue\n",
    "    body=json.dumps({\n",
    "        'image_path': 'test/test_light_off.jpg', \n",
    "        'roi': [640, 360, 640, 360]\n",
    "    }),\n",
    "    headers={'content-type': 'application/json'}\n",
    ")\n",
    "\n",
    "# Test the handler\n",
    "result = handler(context, event)\n",
    "print(result)"
   ]
  },
  {
   "cell_type": "code",
   "execution_count": 44,
   "metadata": {},
   "outputs": [
    {
     "name": "stdout",
     "output_type": "stream",
     "text": [
      "[nuclio] 2025-03-28 16:27:38,214 (info) Staging files and preparing base images\n",
      "[nuclio] 2025-03-28 16:27:38,216 (warn) Using user provided base image, runtime interpreter version is provided by the base image\n",
      "[nuclio] 2025-03-28 16:27:38,218 (info) Building processor image\n",
      "[nuclio] 2025-03-28 16:27:49,574 (info) Build complete\n",
      "[nuclio] 2025-03-28 16:27:51,200 Failed to deploy. Details:\n",
      "\n",
      "Error - Container exited with status: 2\n",
      "    /nuclio/pkg/dockerclient/shell.go:580\n",
      "\n",
      "Call stack:\n",
      "Container exited with status: 2\n",
      "    /nuclio/pkg/dockerclient/shell.go:580\n",
      "Container 4a17437353478ce2da93ce8a20f4a2a89c15fb27acc85a52c9c8e03b5e4d3d70 is not healthy\n",
      "    /nuclio/pkg/dockerclient/shell.go:612\n",
      "Function wasn't ready in time. Logs:\n",
      "25.03.28 15:27:50.430 \u001b[34m(I)\u001b[0m \u001b[37m                processor\u001b[0m Starting processor {\"version\": \"Label: 1.14.1, Git commit: f7573701a7cd7f093fe37481bd8e61d6979a3d14, OS: linux, Arch: amd64, Go version: go1.21.13\"}\n",
      "25.03.28 15:27:50.431 \u001b[32m(D)\u001b[0m \u001b[37m                processor\u001b[0m Read configuration {\"config\": \"{\\n    \\\"metadata\\\": {\\n        \\\"name\\\": \\\"fn-get-brightness\\\",\\n        \\\"namespace\\\": \\\"nuclio\\\",\\n        \\\"labels\\\": {\\n            \\\"nuclio.io/project-name\\\": \\\"avi\\\"\\n        },\\n        \\\"annotations\\\": {\\n            \\\"nuclio.io/generated_by\\\": \\\"function generated from /Users/raffael/octanis/umami/avi_fn_get_brightness/nuclio-example.ipynb\\\"\\n        }\\n    },\\n    \\\"spec\\\": {\\n        \\\"handler\\\": \\\"nuclio-example-nuclio:handler\\\",\\n        \\\"runtime\\\": \\\"python:3.11\\\",\\n        \\\"env\\\": [\\n            {\\n                \\\"name\\\": \\\"USER\\\",\\n                \\\"value\\\": \\\"sam\\\"\\n            },\\n            {\\n                \\\"name\\\": \\\"VERSION\\\",\\n                \\\"value\\\": \\\"1.0\\\"\\n            },\\n            {\\n                \\\"name\\\": \\\"PASSWORD\\\",\\n                \\\"value\\\": \\\"${PASSWORD}\\\"\\n            }\\n        ],\\n        \\\"resources\\\": {\\n            \\\"requests\\\": {\\n                \\\"cpu\\\": \\\"25m\\\",\\n                \\\"memory\\\": \\\"1Mi\\\"\\n            }\\n        },\\n        \\\"image\\\": \\\"nuclio/processor-fn-get-brightness:latest\\\",\\n        \\\"triggers\\\": {\\n            \\\"default-http\\\": {\\n                \\\"class\\\": \\\"\\\",\\n                \\\"kind\\\": \\\"http\\\",\\n                \\\"name\\\": \\\"default-http\\\",\\n                \\\"numWorkers\\\": 1\\n            }\\n        },\\n        \\\"build\\\": {\\n            \\\"functionSourceCode\\\": \\\"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\\\",\\n            \\\"baseImage\\\": \\\"python:3.11\\\",\\n            \\\"commands\\\": [\\n                \\\"pip install requests\\\",\\n                \\\"pip install msgpack\\\",\\n                \\\"pip install numpy\\\",\\n                \\\"pip install opencv-python\\\"\\n            ],\\n            \\\"codeEntryType\\\": \\\"sourceCode\\\",\\n            \\\"timestamp\\\": 1743175669\\n        },\\n        \\\"platform\\\": {},\\n        \\\"securityContext\\\": {},\\n        \\\"disableDefaultHTTPTrigger\\\": false,\\n        \\\"eventTimeout\\\": \\\"\\\"\\n    },\\n    \\\"PlatformConfig\\\": null\\n}\"}\n",
      "25.03.28 15:27:50.431 \u001b[34m(I)\u001b[0m \u001b[37mcessor.healthcheck.server\u001b[0m Listening {\"listenAddress\": \":8082\"}\n",
      "25.03.28 15:27:50.431 \u001b[32m(D)\u001b[0m \u001b[37m           processor.http\u001b[0m Creating worker pool {\"num\": 1}\n",
      "25.03.28 15:27:50.431 \u001b[32m(D)\u001b[0m \u001b[37mlogger.connection-manager\u001b[0m Creating listener socket {\"path\": \"/tmp/nuclio-rpc-cvjbvtinpslquo0abn10.sock\"}\n",
      "25.03.28 15:27:50.431 \u001b[32m(D)\u001b[0m \u001b[37mlogger.connection-manager\u001b[0m Creating listener socket {\"path\": \"/tmp/nuclio-rpc-cvjbvtinpslquo0abn1g.sock\"}\n",
      "25.03.28 15:27:50.431 \u001b[32m(D)\u001b[0m \u001b[37mlogger.connection-manager\u001b[0m Got socket addresses {\"eventAddresses\": [\"/tmp/nuclio-rpc-cvjbvtinpslquo0abn1g.sock\"], \"controlAddress\": \"/tmp/nuclio-rpc-cvjbvtinpslquo0abn10.sock\"}\n",
      "25.03.28 15:27:50.431 \u001b[32m(D)\u001b[0m \u001b[37msor.http.w0.python.logger\u001b[0m Using Python wrapper script path {\"path\": \"/opt/nuclio/_nuclio_wrapper.py\"}\n",
      "25.03.28 15:27:50.431 \u001b[32m(D)\u001b[0m \u001b[37msor.http.w0.python.logger\u001b[0m Using Python handler {\"handler\": \"nuclio-example-nuclio:handler\"}\n",
      "25.03.28 15:27:50.431 \u001b[32m(D)\u001b[0m \u001b[37msor.http.w0.python.logger\u001b[0m Using Python executable {\"path\": \"/usr/local/bin/python3\"}\n",
      "25.03.28 15:27:50.431 \u001b[32m(D)\u001b[0m \u001b[37msor.http.w0.python.logger\u001b[0m Setting PYTHONPATH {\"value\": \"PYTHONPATH=/opt/nuclio\"}\n",
      "25.03.28 15:27:50.431 \u001b[32m(D)\u001b[0m \u001b[37msor.http.w0.python.logger\u001b[0m Running wrapper {\"command\": \"/usr/local/bin/python3 -u /opt/nuclio/_nuclio_wrapper.py --handler nuclio-example-nuclio:handler --event-socket-path /tmp/nuclio-rpc-cvjbvtinpslquo0abn1g.sock --control-socket-path /tmp/nuclio-rpc-cvjbvtinpslquo0abn10.sock --platform-kind local --namespace nuclio --worker-id 0 --trigger-kind http --trigger-name default-http --decode-event-strings\"}\n",
      "{\"datetime\": \"2025-03-28 15:27:50,477\", \"level\": \"error\", \"message\": \"Caught unhandled exception while initializing\", \"with\": {\"err\": \"invalid syntax (nuclio-example-nuclio.py, line 131)\", \"traceback\": \"Traceback (most recent call last):\\n  File \\\"/opt/nuclio/_nuclio_wrapper.py\\\", line 547, in run_wrapper\\n    wrapper_instance = Wrapper(root_logger,\\n                       ^^^^^^^^^^^^^^^^^^^^\\n  File \\\"/opt/nuclio/_nuclio_wrapper.py\\\", line 88, in __init__\\n    self._entrypoint = self._load_entrypoint_from_handler(handler)\\n                       ^^^^^^^^^^^^^^^^^^^^^^^^^^^^^^^^^^^^^^^^^^^\\n  File \\\"/opt/nuclio/_nuclio_wrapper.py\\\", line 331, in _load_entrypoint_from_handler\\n    module = __import__(module_name)\\n             ^^^^^^^^^^^^^^^^^^^^^^^\\n  File \\\"/opt/nuclio/nuclio-example-nuclio.py\\\", line 131\\n    ^\\n    ^\\nSyntaxError: invalid syntax\\n\", \"worker_id\": \"0\"}}\n",
      "25.03.28 15:27:50.485 \u001b[31m(E)\u001b[0m \u001b[37msor.http.w0.python.logger\u001b[0m Unexpected termination of child process {\"error\": \"\", \"status\": \"exit status 1\", \"exitCode\": 1, \"pid\": 27}\n",
      "panic: Wrapper process for worker 0 exited unexpectedly with: exit status 1\n",
      "\n",
      "goroutine 13 [running]:\n",
      "github.com/nuclio/nuclio/pkg/processor/runtime/rpc.(*AbstractRuntime).watchWrapperProcess(0xc00092cfc0)\n",
      "\t/home/runner/work/nuclio/nuclio/pkg/processor/runtime/rpc/abstract.go:330 +0x53d\n",
      "created by github.com/nuclio/nuclio/pkg/processor/runtime/rpc.(*AbstractRuntime).startWrapper in goroutine 12\n",
      "\t/home/runner/work/nuclio/nuclio/pkg/processor/runtime/rpc/abstract.go:278 +0x35e\n",
      "\n",
      "    /nuclio/pkg/platform/local/platform.go:1314\n",
      "\n"
     ]
    },
    {
     "name": "stderr",
     "output_type": "stream",
     "text": [
      "%nuclio: error: cannot deploy \n"
     ]
    }
   ],
   "source": [
    "%%nuclio markdownblock\n",
    "# @include-import-file:brightness_detector.py\n",
    "%nuclio deploy -n fn_get_brightness -p avi -d http://lasso:8070"
   ]
  },
  {
   "cell_type": "code",
   "execution_count": 9,
   "metadata": {
    "pycharm": {
     "name": "#%%\n"
    }
   },
   "outputs": [
    {
     "name": "stdout",
     "output_type": "stream",
     "text": [
      "Hello World from VS codesam"
     ]
    }
   ],
   "source": [
    "!curl lasso:32771"
   ]
  },
  {
   "cell_type": "code",
   "execution_count": 10,
   "metadata": {
    "collapsed": false,
    "pycharm": {
     "name": "#%%\n"
    }
   },
   "outputs": [
    {
     "name": "stdout",
     "output_type": "stream",
     "text": [
      "%nuclio: notebook nuclio-example exported\n",
      "Config:\n",
      "apiVersion: nuclio.io/v1\n",
      "kind: Function\n",
      "metadata:\n",
      "  annotations:\n",
      "    nuclio.io/generated_by: function generated from /Users/raffael/octanis/umami/avi_fn_get_brightness/nuclio-example.ipynb\n",
      "  labels: {}\n",
      "  name: nuclio-example\n",
      "spec:\n",
      "  build:\n",
      "    baseImage: python:3.11\n",
      "    commands:\n",
      "    - pip install requests\n",
      "    - pip install msgpack\n",
      "    functionSourceCode: IyBHZW5lcmF0ZWQgYnkgbnVjbGlvLmV4cG9ydC5OdWNsaW9FeHBvcnRlcgoKZnJvbSBvcyBpbXBvcnQgZW52aXJvbgpkZWYgaGFuZGxlcihjb250ZXh0LCBldmVudCk6CiAgICBjb250ZXh0LmxvZ2dlci5pbmZvKCdzb21lIGxvZyBtZXNzYWdlJykKICAgIHJldHVybiAnSGVsbG8gV29ybGQgZnJvbSBWUyBjb2RlJytlbnZpcm9uLmdldCgnVVNFUicpCgo=\n",
      "    noBaseImagesPull: true\n",
      "  env:\n",
      "  - name: USER\n",
      "    value: sam\n",
      "  - name: VERSION\n",
      "    value: '1.0'\n",
      "  - name: PASSWORD\n",
      "    value: ${PASSWORD}\n",
      "  handler: nuclio-example-nuclio:handler\n",
      "  runtime: python\n",
      "  volumes: []\n",
      "\n",
      "Code:\n",
      "# Generated by nuclio.export.NuclioExporter\n",
      "\n",
      "from os import environ\n",
      "def handler(context, event):\n",
      "    context.logger.info('some log message')\n",
      "    return 'Hello World from VS code'+environ.get('USER')\n",
      "\n",
      "\n"
     ]
    }
   ],
   "source": [
    "%nuclio show"
   ]
  },
  {
   "cell_type": "code",
   "execution_count": 48,
   "metadata": {},
   "outputs": [
    {
     "name": "stderr",
     "output_type": "stream",
     "text": [
      "%nuclio: unknown command: nuclio.print_handler_code\n"
     ]
    }
   ],
   "source": [
    "%nuclio nuclio.print_handler_code"
   ]
  },
  {
   "cell_type": "code",
   "execution_count": null,
   "metadata": {},
   "outputs": [],
   "source": []
  }
 ],
 "metadata": {
  "kernelspec": {
   "display_name": "avi",
   "language": "python",
   "name": "python3"
  },
  "language_info": {
   "codemirror_mode": {
    "name": "ipython",
    "version": 3
   },
   "file_extension": ".py",
   "mimetype": "text/x-python",
   "name": "python",
   "nbconvert_exporter": "python",
   "pygments_lexer": "ipython3",
   "version": "3.11.11"
  }
 },
 "nbformat": 4,
 "nbformat_minor": 2
}
